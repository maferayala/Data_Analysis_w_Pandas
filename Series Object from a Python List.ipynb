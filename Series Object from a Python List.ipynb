{
 "cells": [
  {
   "cell_type": "code",
   "execution_count": 32,
   "id": "c2e9b63c",
   "metadata": {},
   "outputs": [],
   "source": [
    "import pandas as pd\n",
    "import numpy as np\n",
    "\n",
    "list=[2,3,4,5]\n"
   ]
  },
  {
   "cell_type": "code",
   "execution_count": 33,
   "id": "ac517d04",
   "metadata": {},
   "outputs": [],
   "source": [
    "sere=pd.Series(list)"
   ]
  },
  {
   "cell_type": "code",
   "execution_count": 34,
   "id": "4e3c7f2f",
   "metadata": {},
   "outputs": [],
   "source": [
    "Booleans=[True,True,True]"
   ]
  },
  {
   "cell_type": "code",
   "execution_count": 35,
   "id": "a3c51991",
   "metadata": {},
   "outputs": [
    {
     "data": {
      "text/plain": [
       "0    True\n",
       "1    True\n",
       "2    True\n",
       "dtype: bool"
      ]
     },
     "execution_count": 35,
     "metadata": {},
     "output_type": "execute_result"
    }
   ],
   "source": [
    "pd.Series(Booleans)"
   ]
  },
  {
   "cell_type": "code",
   "execution_count": 36,
   "id": "8c43e1ba",
   "metadata": {},
   "outputs": [
    {
     "data": {
      "text/plain": [
       "'hello'"
      ]
     },
     "execution_count": 36,
     "metadata": {},
     "output_type": "execute_result"
    }
   ],
   "source": [
    "\"hello\""
   ]
  },
  {
   "cell_type": "code",
   "execution_count": 37,
   "id": "0de10183",
   "metadata": {},
   "outputs": [
    {
     "data": {
      "text/plain": [
       "array([2, 3, 4, 5], dtype=int64)"
      ]
     },
     "execution_count": 37,
     "metadata": {},
     "output_type": "execute_result"
    }
   ],
   "source": [
    "sere.values"
   ]
  },
  {
   "cell_type": "code",
   "execution_count": null,
   "id": "de59f93b",
   "metadata": {},
   "outputs": [],
   "source": []
  }
 ],
 "metadata": {
  "kernelspec": {
   "display_name": "Python 3 (ipykernel)",
   "language": "python",
   "name": "python3"
  },
  "language_info": {
   "codemirror_mode": {
    "name": "ipython",
    "version": 3
   },
   "file_extension": ".py",
   "mimetype": "text/x-python",
   "name": "python",
   "nbconvert_exporter": "python",
   "pygments_lexer": "ipython3",
   "version": "3.9.16"
  }
 },
 "nbformat": 4,
 "nbformat_minor": 5
}
